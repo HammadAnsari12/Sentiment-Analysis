{
  "cells": [
    {
      "cell_type": "code",
      "source": [
        "from google.colab import drive\n",
        "drive.mount('/content/drive')"
      ],
      "metadata": {
        "colab": {
          "base_uri": "https://localhost:8080/"
        },
        "id": "x2MIDHE0-mO2",
        "outputId": "bacfd98b-176b-4954-e4c0-336da46c7c59"
      },
      "execution_count": 6,
      "outputs": [
        {
          "output_type": "stream",
          "name": "stdout",
          "text": [
            "Mounted at /content/drive\n"
          ]
        }
      ]
    },
    {
      "cell_type": "code",
      "source": [
        "import pandas as pd\n",
        "\n",
        "# Replace the file ID with your own\n",
        "file_id = '1GIc7WrNMMSwJ4T-INWztqZu9QQt06_6q'\n",
        "link = f'https://drive.google.com/uc?id={file_id}'\n",
        "df = pd.read_csv(link)"
      ],
      "metadata": {
        "id": "JJAphriq-8SD"
      },
      "execution_count": 7,
      "outputs": []
    },
    {
      "cell_type": "code",
      "execution_count": 11,
      "metadata": {
        "colab": {
          "base_uri": "https://localhost:8080/"
        },
        "id": "0Tig45SK5LjH",
        "outputId": "9ee4c868-266b-422d-eabb-511967b68d6a"
      },
      "outputs": [
        {
          "output_type": "stream",
          "name": "stdout",
          "text": [
            "Accuracy: 0.569883290634785\n",
            "Predicted genre: ['comedy']\n"
          ]
        }
      ],
      "source": [
        "import pandas as pd\n",
        "from sklearn.feature_extraction.text import TfidfVectorizer\n",
        "from sklearn.model_selection import train_test_split\n",
        "from sklearn.linear_model import LogisticRegression\n",
        "from sklearn.metrics import accuracy_score\n",
        "from spacy.lang.de.stop_words import STOP_WORDS\n",
        "\n",
        "\n",
        "\n",
        "# Load the CSV dataset into a pandas DataFrame\n",
        "\n",
        "\n",
        "# Preprocess the text data\n",
        "\n",
        "tfidf = TfidfVectorizer(stop_words=list(STOP_WORDS))\n",
        "X = df['Plot']\n",
        "y = df['Genre']\n",
        "\n",
        "# Split the dataset into training and testing sets\n",
        "X_train, X_test, y_train, y_test = train_test_split(X, y, test_size=0.2, stratify=y)\n",
        "\n",
        "# Fit a TF-IDF vectorizer on the training set and transform both the training and testing sets\n",
        "X_train_tfidf = tfidf.fit_transform(X_train)\n",
        "X_test_tfidf = tfidf.transform(X_test)\n",
        "\n",
        "# Train a logistic regression model on the TF-IDF transformed training set\n",
        "model = LogisticRegression(max_iter = 5000)\n",
        "model.fit(X_train_tfidf, y_train)\n",
        "\n",
        "# Evaluate the accuracy of the model on the TF-IDF transformed testing set\n",
        "y_pred = model.predict(X_test_tfidf)\n",
        "accuracy = accuracy_score(y_test, y_pred)\n",
        "print(\"Accuracy:\", accuracy)\n",
        "\n",
        "# Use the trained model to predict the genre of new movies\n",
        "new_movie = [\"A man discovers that his wife is secretly a spy and gets caught up in a dangerous international conspiracy.\"]\n",
        "new_movie_tfidf = tfidf.transform(new_movie)\n",
        "predicted_genre = model.predict(new_movie_tfidf)\n",
        "print(\"Predicted genre:\", predicted_genre)\n"
      ]
    },
    {
      "cell_type": "code",
      "execution_count": 12,
      "metadata": {
        "colab": {
          "base_uri": "https://localhost:8080/"
        },
        "id": "LNWz4yBs5Ljb",
        "outputId": "6143e3c9-dda5-44b0-be1d-6d8a555ac283"
      },
      "outputs": [
        {
          "output_type": "stream",
          "name": "stdout",
          "text": [
            "Confusion Matrix:\n",
            "[[  56    2   27    0  122    3    0    3    4    2    1]\n",
            " [   3   16   19    0   61    1    0    0    2    0    3]\n",
            " [   4    0  595    0  257    8    0    6    3    1    2]\n",
            " [   7    0   28    9   65    2    0    0    0    2    1]\n",
            " [   9    1  156    2 1003    5    0    5    4    5    3]\n",
            " [   1    0   24    0   63  136    0    0    6    2    1]\n",
            " [   0    0   51    0   36    1    2    1    0    0    2]\n",
            " [   2    0   33    0  128    0    0   22    0    0    0]\n",
            " [   3    0   20    0   34   20    0    0   51    0    0]\n",
            " [   5    0   38    1  124   11    0    1    0   13    0]\n",
            " [   1    0   17    0   55    1    0    0    0    0   99]]\n"
          ]
        }
      ],
      "source": [
        "from sklearn.metrics import confusion_matrix\n",
        "\n",
        "# Get the predicted labels for the test set\n",
        "y_pred = model.predict(X_test_tfidf)\n",
        "\n",
        "# Create the confusion matrix\n",
        "conf_matrix = confusion_matrix(y_test, y_pred)\n",
        "\n",
        "# Print the confusion matrix\n",
        "print(\"Confusion Matrix:\")\n",
        "print(conf_matrix)\n"
      ]
    },
    {
      "cell_type": "code",
      "execution_count": 13,
      "metadata": {
        "colab": {
          "base_uri": "https://localhost:8080/"
        },
        "id": "MMchIrWc5Ljd",
        "outputId": "2503eeca-9ee1-423f-b3ae-dd4ae7cb48f1"
      },
      "outputs": [
        {
          "output_type": "stream",
          "name": "stdout",
          "text": [
            "Classification Report:\n",
            "                 precision    recall  f1-score   support\n",
            "\n",
            "         action       0.62      0.25      0.36       220\n",
            "      adventure       0.84      0.15      0.26       105\n",
            "         comedy       0.59      0.68      0.63       876\n",
            "          crime       0.75      0.08      0.14       114\n",
            "          drama       0.51      0.84      0.64      1193\n",
            "         horror       0.72      0.58      0.65       233\n",
            "        musical       1.00      0.02      0.04        93\n",
            "        romance       0.58      0.12      0.20       185\n",
            "science fiction       0.73      0.40      0.52       128\n",
            "       thriller       0.52      0.07      0.12       193\n",
            "        western       0.88      0.57      0.69       173\n",
            "\n",
            "       accuracy                           0.57      3513\n",
            "      macro avg       0.70      0.34      0.39      3513\n",
            "   weighted avg       0.61      0.57      0.52      3513\n",
            "\n"
          ]
        }
      ],
      "source": [
        "from sklearn.metrics import classification_report\n",
        "\n",
        "# Get the predicted labels for the test set\n",
        "y_pred = model.predict(X_test_tfidf)\n",
        "\n",
        "# Generate the classification report\n",
        "report = classification_report(y_test, y_pred)\n",
        "\n",
        "# Print the classification report\n",
        "print(\"Classification Report:\")\n",
        "print(report)"
      ]
    },
    {
      "cell_type": "code",
      "execution_count": 14,
      "metadata": {
        "colab": {
          "base_uri": "https://localhost:8080/"
        },
        "id": "IIHwl-TG5Lje",
        "outputId": "0b3ccda1-635c-4681-9c65-0c6b51118eba"
      },
      "outputs": [
        {
          "output_type": "stream",
          "name": "stdout",
          "text": [
            "Accuracy: 0.36151437517791063\n"
          ]
        }
      ],
      "source": [
        "from sklearn.naive_bayes import MultinomialNB\n",
        "from sklearn.metrics import accuracy_score\n",
        "\n",
        "# Train a Multinomial Naive Bayes classifier on the TF-IDF features\n",
        "nb_classifier = MultinomialNB()\n",
        "nb_classifier.fit(X_train_tfidf, y_train)\n",
        "\n",
        "# Use the classifier to predict the genre labels for the test set\n",
        "y_pred_nb = nb_classifier.predict(X_test_tfidf)\n",
        "\n",
        "# Compute the accuracy of the classifier\n",
        "accuracy = accuracy_score(y_test, y_pred_nb)\n",
        "print(\"Accuracy:\", accuracy)"
      ]
    },
    {
      "cell_type": "code",
      "execution_count": 15,
      "metadata": {
        "colab": {
          "base_uri": "https://localhost:8080/"
        },
        "id": "KGl5aIAA5Ljg",
        "outputId": "f83fc209-7526-49c6-cdd7-449051e187ca"
      },
      "outputs": [
        {
          "output_type": "stream",
          "name": "stdout",
          "text": [
            "Classification Report:\n",
            "                 precision    recall  f1-score   support\n",
            "\n",
            "         action       0.00      0.00      0.00       220\n",
            "      adventure       0.00      0.00      0.00       105\n",
            "         comedy       0.81      0.09      0.17       876\n",
            "          crime       0.00      0.00      0.00       114\n",
            "          drama       0.35      1.00      0.52      1193\n",
            "         horror       0.00      0.00      0.00       233\n",
            "        musical       0.00      0.00      0.00        93\n",
            "        romance       0.00      0.00      0.00       185\n",
            "science fiction       0.00      0.00      0.00       128\n",
            "       thriller       0.00      0.00      0.00       193\n",
            "        western       0.00      0.00      0.00       173\n",
            "\n",
            "       accuracy                           0.36      3513\n",
            "      macro avg       0.11      0.10      0.06      3513\n",
            "   weighted avg       0.32      0.36      0.22      3513\n",
            "\n"
          ]
        },
        {
          "output_type": "stream",
          "name": "stderr",
          "text": [
            "/usr/local/lib/python3.10/dist-packages/sklearn/metrics/_classification.py:1344: UndefinedMetricWarning: Precision and F-score are ill-defined and being set to 0.0 in labels with no predicted samples. Use `zero_division` parameter to control this behavior.\n",
            "  _warn_prf(average, modifier, msg_start, len(result))\n",
            "/usr/local/lib/python3.10/dist-packages/sklearn/metrics/_classification.py:1344: UndefinedMetricWarning: Precision and F-score are ill-defined and being set to 0.0 in labels with no predicted samples. Use `zero_division` parameter to control this behavior.\n",
            "  _warn_prf(average, modifier, msg_start, len(result))\n",
            "/usr/local/lib/python3.10/dist-packages/sklearn/metrics/_classification.py:1344: UndefinedMetricWarning: Precision and F-score are ill-defined and being set to 0.0 in labels with no predicted samples. Use `zero_division` parameter to control this behavior.\n",
            "  _warn_prf(average, modifier, msg_start, len(result))\n"
          ]
        }
      ],
      "source": [
        "from sklearn.metrics import classification_report\n",
        "\n",
        "# Get the predicted labels for the test set\n",
        "y_pred_nb = nb_classifier.predict(X_test_tfidf)\n",
        "\n",
        "# Generate the classification report\n",
        "report = classification_report(y_test, y_pred_nb)\n",
        "\n",
        "# Print the classification report\n",
        "print(\"Classification Report:\")\n",
        "print(report)"
      ]
    },
    {
      "cell_type": "code",
      "execution_count": 16,
      "metadata": {
        "id": "9t4vkbMb5Lji"
      },
      "outputs": [],
      "source": [
        "from sklearn.svm import SVC\n",
        "from sklearn.metrics import accuracy_score"
      ]
    },
    {
      "cell_type": "code",
      "execution_count": 17,
      "metadata": {
        "colab": {
          "base_uri": "https://localhost:8080/",
          "height": 74
        },
        "id": "OVmszfbJ5Ljj",
        "outputId": "12061d94-2eac-4bfd-e984-7c2ccb52f048"
      },
      "outputs": [
        {
          "output_type": "execute_result",
          "data": {
            "text/plain": [
              "SVC()"
            ],
            "text/html": [
              "<style>#sk-container-id-1 {color: black;background-color: white;}#sk-container-id-1 pre{padding: 0;}#sk-container-id-1 div.sk-toggleable {background-color: white;}#sk-container-id-1 label.sk-toggleable__label {cursor: pointer;display: block;width: 100%;margin-bottom: 0;padding: 0.3em;box-sizing: border-box;text-align: center;}#sk-container-id-1 label.sk-toggleable__label-arrow:before {content: \"▸\";float: left;margin-right: 0.25em;color: #696969;}#sk-container-id-1 label.sk-toggleable__label-arrow:hover:before {color: black;}#sk-container-id-1 div.sk-estimator:hover label.sk-toggleable__label-arrow:before {color: black;}#sk-container-id-1 div.sk-toggleable__content {max-height: 0;max-width: 0;overflow: hidden;text-align: left;background-color: #f0f8ff;}#sk-container-id-1 div.sk-toggleable__content pre {margin: 0.2em;color: black;border-radius: 0.25em;background-color: #f0f8ff;}#sk-container-id-1 input.sk-toggleable__control:checked~div.sk-toggleable__content {max-height: 200px;max-width: 100%;overflow: auto;}#sk-container-id-1 input.sk-toggleable__control:checked~label.sk-toggleable__label-arrow:before {content: \"▾\";}#sk-container-id-1 div.sk-estimator input.sk-toggleable__control:checked~label.sk-toggleable__label {background-color: #d4ebff;}#sk-container-id-1 div.sk-label input.sk-toggleable__control:checked~label.sk-toggleable__label {background-color: #d4ebff;}#sk-container-id-1 input.sk-hidden--visually {border: 0;clip: rect(1px 1px 1px 1px);clip: rect(1px, 1px, 1px, 1px);height: 1px;margin: -1px;overflow: hidden;padding: 0;position: absolute;width: 1px;}#sk-container-id-1 div.sk-estimator {font-family: monospace;background-color: #f0f8ff;border: 1px dotted black;border-radius: 0.25em;box-sizing: border-box;margin-bottom: 0.5em;}#sk-container-id-1 div.sk-estimator:hover {background-color: #d4ebff;}#sk-container-id-1 div.sk-parallel-item::after {content: \"\";width: 100%;border-bottom: 1px solid gray;flex-grow: 1;}#sk-container-id-1 div.sk-label:hover label.sk-toggleable__label {background-color: #d4ebff;}#sk-container-id-1 div.sk-serial::before {content: \"\";position: absolute;border-left: 1px solid gray;box-sizing: border-box;top: 0;bottom: 0;left: 50%;z-index: 0;}#sk-container-id-1 div.sk-serial {display: flex;flex-direction: column;align-items: center;background-color: white;padding-right: 0.2em;padding-left: 0.2em;position: relative;}#sk-container-id-1 div.sk-item {position: relative;z-index: 1;}#sk-container-id-1 div.sk-parallel {display: flex;align-items: stretch;justify-content: center;background-color: white;position: relative;}#sk-container-id-1 div.sk-item::before, #sk-container-id-1 div.sk-parallel-item::before {content: \"\";position: absolute;border-left: 1px solid gray;box-sizing: border-box;top: 0;bottom: 0;left: 50%;z-index: -1;}#sk-container-id-1 div.sk-parallel-item {display: flex;flex-direction: column;z-index: 1;position: relative;background-color: white;}#sk-container-id-1 div.sk-parallel-item:first-child::after {align-self: flex-end;width: 50%;}#sk-container-id-1 div.sk-parallel-item:last-child::after {align-self: flex-start;width: 50%;}#sk-container-id-1 div.sk-parallel-item:only-child::after {width: 0;}#sk-container-id-1 div.sk-dashed-wrapped {border: 1px dashed gray;margin: 0 0.4em 0.5em 0.4em;box-sizing: border-box;padding-bottom: 0.4em;background-color: white;}#sk-container-id-1 div.sk-label label {font-family: monospace;font-weight: bold;display: inline-block;line-height: 1.2em;}#sk-container-id-1 div.sk-label-container {text-align: center;}#sk-container-id-1 div.sk-container {/* jupyter's `normalize.less` sets `[hidden] { display: none; }` but bootstrap.min.css set `[hidden] { display: none !important; }` so we also need the `!important` here to be able to override the default hidden behavior on the sphinx rendered scikit-learn.org. See: https://github.com/scikit-learn/scikit-learn/issues/21755 */display: inline-block !important;position: relative;}#sk-container-id-1 div.sk-text-repr-fallback {display: none;}</style><div id=\"sk-container-id-1\" class=\"sk-top-container\"><div class=\"sk-text-repr-fallback\"><pre>SVC()</pre><b>In a Jupyter environment, please rerun this cell to show the HTML representation or trust the notebook. <br />On GitHub, the HTML representation is unable to render, please try loading this page with nbviewer.org.</b></div><div class=\"sk-container\" hidden><div class=\"sk-item\"><div class=\"sk-estimator sk-toggleable\"><input class=\"sk-toggleable__control sk-hidden--visually\" id=\"sk-estimator-id-1\" type=\"checkbox\" checked><label for=\"sk-estimator-id-1\" class=\"sk-toggleable__label sk-toggleable__label-arrow\">SVC</label><div class=\"sk-toggleable__content\"><pre>SVC()</pre></div></div></div></div></div>"
            ]
          },
          "metadata": {},
          "execution_count": 17
        }
      ],
      "source": [
        "# Train an SVM classifier on the TF-IDF features\n",
        "svm_classifier = SVC()\n",
        "svm_classifier.fit(X_train_tfidf, y_train)"
      ]
    },
    {
      "cell_type": "code",
      "execution_count": 18,
      "metadata": {
        "id": "thwNUwzC5Ljl"
      },
      "outputs": [],
      "source": [
        "# Use the classifier to predict the genre labels for the test set\n",
        "y_pred_svc = svm_classifier.predict(X_test_tfidf)"
      ]
    },
    {
      "cell_type": "code",
      "execution_count": 19,
      "metadata": {
        "colab": {
          "base_uri": "https://localhost:8080/"
        },
        "id": "-1_JZsQz5Ljm",
        "outputId": "bb8c78b0-b03c-4c1c-ff68-38ade6626e35"
      },
      "outputs": [
        {
          "output_type": "stream",
          "name": "stdout",
          "text": [
            "Accuracy: 0.5482493595217762\n"
          ]
        }
      ],
      "source": [
        "# Compute the accuracy of the classifier\n",
        "accuracy = accuracy_score(y_test, y_pred_svc)\n",
        "print(\"Accuracy:\", accuracy)"
      ]
    },
    {
      "cell_type": "code",
      "execution_count": 20,
      "metadata": {
        "colab": {
          "base_uri": "https://localhost:8080/"
        },
        "id": "B3Qe81DZ5Ljo",
        "outputId": "713bea46-1a41-44e8-af60-cbd214ebbc14"
      },
      "outputs": [
        {
          "output_type": "stream",
          "name": "stdout",
          "text": [
            "Classification Report:\n",
            "                 precision    recall  f1-score   support\n",
            "\n",
            "         action       0.75      0.14      0.23       220\n",
            "      adventure       0.91      0.10      0.17       105\n",
            "         comedy       0.62      0.63      0.62       876\n",
            "          crime       0.50      0.01      0.02       114\n",
            "          drama       0.47      0.87      0.61      1193\n",
            "         horror       0.75      0.55      0.64       233\n",
            "        musical       0.00      0.00      0.00        93\n",
            "        romance       0.59      0.07      0.13       185\n",
            "science fiction       0.82      0.40      0.54       128\n",
            "       thriller       1.00      0.03      0.05       193\n",
            "        western       0.89      0.56      0.69       173\n",
            "\n",
            "       accuracy                           0.55      3513\n",
            "      macro avg       0.66      0.30      0.34      3513\n",
            "   weighted avg       0.61      0.55      0.49      3513\n",
            "\n"
          ]
        },
        {
          "output_type": "stream",
          "name": "stderr",
          "text": [
            "/usr/local/lib/python3.10/dist-packages/sklearn/metrics/_classification.py:1344: UndefinedMetricWarning: Precision and F-score are ill-defined and being set to 0.0 in labels with no predicted samples. Use `zero_division` parameter to control this behavior.\n",
            "  _warn_prf(average, modifier, msg_start, len(result))\n",
            "/usr/local/lib/python3.10/dist-packages/sklearn/metrics/_classification.py:1344: UndefinedMetricWarning: Precision and F-score are ill-defined and being set to 0.0 in labels with no predicted samples. Use `zero_division` parameter to control this behavior.\n",
            "  _warn_prf(average, modifier, msg_start, len(result))\n",
            "/usr/local/lib/python3.10/dist-packages/sklearn/metrics/_classification.py:1344: UndefinedMetricWarning: Precision and F-score are ill-defined and being set to 0.0 in labels with no predicted samples. Use `zero_division` parameter to control this behavior.\n",
            "  _warn_prf(average, modifier, msg_start, len(result))\n"
          ]
        }
      ],
      "source": [
        "from sklearn.metrics import classification_report\n",
        "\n",
        "# Get the predicted labels for the test set\n",
        "y_pred_svc = svm_classifier.predict(X_test_tfidf)\n",
        "\n",
        "# Generate the classification report\n",
        "report = classification_report(y_test, y_pred_svc)\n",
        "\n",
        "# Print the classification report\n",
        "print(\"Classification Report:\")\n",
        "print(report)"
      ]
    },
    {
      "cell_type": "code",
      "execution_count": 21,
      "metadata": {
        "id": "MKeWz10w5Ljs"
      },
      "outputs": [],
      "source": [
        "import pickle\n",
        "pickle.dump(model, open('Logistic_NLP.sav', 'wb'))\n",
        "pickle.dump(nb_classifier, open('Naive_NLP.sav', 'wb'))\n",
        "pickle.dump(svm_classifier, open('SVC_NLP.sav', 'wb'))"
      ]
    },
    {
      "cell_type": "code",
      "execution_count": 5,
      "metadata": {
        "id": "5V6F0cA35Ljt"
      },
      "outputs": [],
      "source": []
    }
  ],
  "metadata": {
    "kernelspec": {
      "display_name": "Python 3",
      "language": "python",
      "name": "python3"
    },
    "language_info": {
      "codemirror_mode": {
        "name": "ipython",
        "version": 3
      },
      "file_extension": ".py",
      "mimetype": "text/x-python",
      "name": "python",
      "nbconvert_exporter": "python",
      "pygments_lexer": "ipython3",
      "version": "3.8.5"
    },
    "colab": {
      "provenance": []
    }
  },
  "nbformat": 4,
  "nbformat_minor": 0
}